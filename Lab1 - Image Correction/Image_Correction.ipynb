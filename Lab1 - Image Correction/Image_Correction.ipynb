{
  "cells": [
    {
      "cell_type": "markdown",
      "metadata": {
        "id": "Sukr9w6AtV99"
      },
      "source": [
        "## Student Information\n",
        "\n",
        "Please enter the names and IDs of the two students below:\n",
        "\n",
        "1. **Name**: [Donia Gameel Mahmoud]  \n",
        "   **ID**: `9202523`\n",
        "\n",
        "2. **Name**: Heba Ashraf Raslan  \n",
        "   **ID**: `9203667`\n"
      ]
    },
    {
      "cell_type": "markdown",
      "metadata": {
        "id": "hmDt9R0jtV-B"
      },
      "source": [
        "## Students Instructions\n",
        "\n",
        "This is your first graded lab assignment, as you put the work you have studied in the lectures in action, please take this opportunity to enhance your understanding of the concepts and hone your skills. As you work on your assignment, please keep the following instructions in mind:\n",
        "\n",
        "- Clearly state your personal information where indicated.\n",
        "- Be ready with your work before the time of the next discussion slot in the schedule.\n",
        "- Plagiarism will be met with penalties, refrain from copying any answers to make the most out of the assignment. If any signs of plagiarism are detected, actions will be taken.\n",
        "- It is acceptable to share the workload of the assignment bearing the discussion in mind.\n",
        "- Feel free to reach out if there were any ambiguities.\n"
      ]
    },
    {
      "cell_type": "markdown",
      "metadata": {
        "id": "kBwWm5xKtV-C"
      },
      "source": [
        "\n",
        "\n",
        "\n",
        "## Installation Instructions\n",
        "\n",
        "When setting up your development environment for geospatial analysis, it's crucial to install the necessary libraries correctly to avoid common issues. Here are the steps and important notes to guide you through the installation process:\n",
        "\n",
        "1. Install GDAL\n",
        "To avoid errors related to Visual Studio build files when installing GDAL via pip, it's recommended to use Conda. This method simplifies the installation process by handling binary dependencies:\n",
        "```bash\n",
        "conda install -c conda-forge gdal\n",
        "```\n",
        "\n",
        "1. Install EarthPy\n",
        "To circumvent dependency errors that might occur when installing EarthPy with Conda, use pip. This ensures that EarthPy and its Python dependencies are installed correctly:\n",
        "```bash\n",
        "pip install earthpy\n",
        "```\n",
        "\n",
        "1. Pay Attention to Versioning\n",
        "It's critical to select a Python version that satisfies the requirements of both GDAL, as it relates to GIS, and EarthPy. Ensuring compatibility across these libraries will prevent version conflicts and runtime errors.\n",
        "\n",
        "1. Create a Python Environment\n",
        "To avoid disrupting your base environment or the default Python distribution, create a dedicated Python or Conda environment with Python versions 3.8, 3.9, or 3.10. This isolation helps manage dependencies more effectively and keeps your system tidy:\n",
        "```bash\n",
        "# For Conda\n",
        "conda create -n geospatial python=3.8\n",
        "conda activate geospatial\n",
        "\n",
        "# Alternatively, for Python's venv\n",
        "python -m venv geospatial\n",
        "# Activate the environment as per your OS instructions\n",
        "```\n",
        "\n",
        "By following these instructions, you can set up a robust geospatial analysis environment that minimizes common installation issues and fosters a productive development workflow.\n",
        "```\n"
      ]
    },
    {
      "cell_type": "markdown",
      "metadata": {
        "id": "ooSmPH9RtV-D"
      },
      "source": [
        "# Image Correction and Transformation\n",
        "\n",
        "\n"
      ]
    },
    {
      "cell_type": "code",
      "execution_count": null,
      "metadata": {
        "id": "muoSlJootV-E"
      },
      "outputs": [],
      "source": [
        "##Import all needed libraries\n",
        "import numpy as np\n",
        "from sklearn import cluster\n",
        "from osgeo import gdal, gdal_array\n",
        "import matplotlib.pyplot as plt\n",
        "import earthpy.plot as ep\n",
        "import earthpy.spatial as es\n",
        "import cv2\n"
      ]
    },
    {
      "cell_type": "markdown",
      "metadata": {
        "id": "rtY_5pl3tV-G"
      },
      "source": [
        "## Bad Pixels"
      ]
    },
    {
      "cell_type": "markdown",
      "metadata": {
        "id": "revNhMYStV-G"
      },
      "source": [
        "Numerous factors, including sensor disturbances, errors during data transmission, or potential equipment failures, can lead to the presence of erroneous pixels within satellite images. Such imperfections may compromise image integrity, thereby impacting the reliability of any subsequent analyses or interpretations derived from these images."
      ]
    },
    {
      "cell_type": "markdown",
      "metadata": {
        "id": "dcNfcMUzfoKk"
      },
      "source": [
        "An effective strategy for addressing random bad pixels (values set to 0) involves utilizing an algorithm that identifies and substitutes these pixels with values reflective of their immediate surroundings. The steps for implementing this algorithm are outlined below:\n",
        "\n",
        "1. **Detect Bad Pixels**: Start by pinpointing the bad pixels within the image. This identification can be achieved through methods like visual inspection or the use of automated detection algorithms.\n",
        "\n",
        "2. **Establish a Neighborhood**: For each identified bad pixel, define a surrounding area or neighborhood. The extent of this neighborhood is determined by the image's characteristics and the bad pixel's impact.\n",
        "\n",
        "3. **Compute Statistical Properties**: Analyze the statistical attributes, such as the mean, of the neighborhood's pixels.\n",
        "\n",
        "4. **Substitute Bad Pixels**: Use the statistical measure obtained in the previous step to replace the value of the bad pixel. Techniques for this substitution may include interpolation, spatial filtering, or employing regression analysis.\n",
        "\n",
        "5. **Iterate for Each Bad Pixel**: Execute the aforementioned steps (2-4) for every bad pixel detected in the image.\n"
      ]
    },
    {
      "cell_type": "markdown",
      "metadata": {
        "id": "690-L60VtV-H"
      },
      "source": [
        "## Q1- Implement Random Bad Pixel Removal Algorithm\n",
        "\n",
        "Shot noise is identified and repaired using the following methodology:\n",
        "- **Identify Bad Pixels**: Begin by locating each bad pixel within the band $k$. Employ a straightforward thresholding algorithm that scans through the dataset. This process identifies and marks any pixel $BV_{i,j,k}$\n",
        "that exhibits a brightness value of zero, provided that the adjacent pixels exhibit non-zero values.\n",
        "\n",
        "- **Evaluate Corrected Pixel Value**: After pinpointing the bad pixels, assess the appropriate value for correction by examining the eight surrounding pixels. This evaluation helps in determining a suitable replacement value that harmonizes with the pixel's immediate neighborhood.\n",
        "\n",
        "### Requirements\n",
        "A file that contains information for each band should display the following:\n",
        "  1. Indices of bad pixels\n",
        "  2. Corrected values\n",
        "  3. Total L1 Loss for the image after correction using the original image"
      ]
    },
    {
      "cell_type": "code",
      "execution_count": null,
      "metadata": {
        "id": "xH2I61Eu-NEg"
      },
      "outputs": [],
      "source": [
        "# check rasterio library ;)\n",
        "# Read in raster image 'RBN_Forest_27.tif' for the corrupt image\n",
        "# Original image is 'Forest_27.tif'\n",
        "\n"
      ]
    },
    {
      "cell_type": "code",
      "execution_count": null,
      "metadata": {
        "id": "kzDPtyc4tV-I",
        "outputId": "42a76572-4846-4c76-ecfd-7ff1444dbe15"
      },
      "outputs": [
        {
          "data": {
            "image/png": "[encoded data removed]",
            "text/plain": [
              "<Figure size 640x480 with 1 Axes>"
            ]
          },
          "metadata": {},
          "output_type": "display_data"
        },
        {
          "name": "stderr",
          "output_type": "stream",
          "text": [
            "C:\\Users\\user\\AppData\\Roaming\\Python\\Python38\\site-packages\\rasterio\\__init__.py:331: NotGeoreferencedWarning: Dataset has no geotransform, gcps, or rpcs. The identity matrix will be returned.\n",
            "  dataset = DatasetReader(path, driver=driver, sharing=sharing, **kwargs)\n"
          ]
        },
        {
          "data": {
            "image/png": "[encoded data removed]",
            "text/plain": [
              "<Figure size 640x480 with 1 Axes>"
            ]
          },
          "metadata": {},
          "output_type": "display_data"
        },
        {
          "data": {
            "image/png": "[encoded data removed]",
            "text/plain": [
              "<Figure size 1200x600 with 2 Axes>"
            ]
          },
          "metadata": {},
          "output_type": "display_data"
        }
      ],
      "source": [
        "import rasterio\n",
        "from rasterio.plot import show\n",
        "import matplotlib.pyplot as plt\n",
        "\n",
        "\n",
        "original_image_path = 'Forest_27.tif'\n",
        "corrupt_image_path = 'RBN_Forest_27.tif'\n",
        "\n",
        "\n",
        "with rasterio.open(original_image_path) as src:\n",
        "    show(src)\n",
        "    # Only band 2\n",
        "    original_image=src.read(2)\n",
        "\n",
        "with rasterio.open(corrupt_image_path) as src:\n",
        "    show(src)\n",
        "    # Only band 2\n",
        "    corrupt_image=src.read(2)\n",
        "\n",
        "\n",
        "plt.figure(figsize=(12, 6))\n",
        "plt.subplot(1, 2, 1)\n",
        "plt.imshow(original_image, cmap='gray')\n",
        "plt.title('Original Image')\n",
        "plt.axis('off')\n",
        "\n",
        "plt.subplot(1, 2, 2)\n",
        "plt.imshow(corrupt_image, cmap='gray')\n",
        "plt.title('Corrupt Image')\n",
        "plt.axis('off')\n",
        "\n",
        "plt.show()\n"
      ]
    },
    {
      "cell_type": "markdown",
      "metadata": {
        "id": "KtxI62HGtV-K"
      },
      "source": [
        "Several algorithms, including median filtering, nearest neighbor interpolation, and wavelet-based denoising, address random bad pixels in satellite imagery. The selection depends on the image characteristics and analysis needs. However, these methods may introduce smoothing or blurring, potentially impacting the precision of certain analyses."
      ]
    },
    {
      "cell_type": "code",
      "execution_count": null,
      "metadata": {
        "id": "r-dIw2d7tV-K"
      },
      "outputs": [],
      "source": [
        "import numpy as np\n",
        "\n",
        "def remove_bad_pixels(image_path, output_file):\n",
        "\n",
        "    with rasterio.open(image_path) as src:\n",
        "\n",
        "        bands = src.read()\n",
        "        num_bands = src.count\n",
        "        rows, cols = bands.shape[1:]   # bands shape = (13, 64, 64)\n",
        "\n",
        "\n",
        "        with open(output_file, 'w') as f:\n",
        "\n",
        "            # Iterate over each band\n",
        "            for band_index in range(num_bands):\n",
        "\n",
        "                band = bands[band_index]\n",
        "                corrected_band = np.copy(band)\n",
        "\n",
        "\n",
        "                bad_pixel_indices = []\n",
        "                corrected_values = []\n",
        "\n",
        "\n",
        "                for i in range(rows):\n",
        "                    for j in range(cols):\n",
        "\n",
        "                        neighborhood = band[max(0, i-1):min(rows, i+2), max(0, j-1):min(cols, j+2)]\n",
        "\n",
        "                        if band[i, j] == 0 and np.any(neighborhood != 0):\n",
        "\n",
        "\n",
        "                             neighborhood = neighborhood[neighborhood != 0]\n",
        "                             mean_value = int(np.mean(neighborhood))\n",
        "                             corrected_band[i, j] = mean_value\n",
        "\n",
        "                             bad_pixel_indices.append((i, j))\n",
        "                             corrected_values.append(mean_value)\n",
        "\n",
        "\n",
        "                l1_loss = np.mean(np.abs(corrected_band - band))\n",
        "\n",
        "\n",
        "\n",
        "                f.write(f\"Band {band_index + 1}:\\n\")\n",
        "                f.write(f\"  Indices of bad pixels: {bad_pixel_indices}\\n\")\n",
        "                f.write(f\"  Corrected values: {corrected_values}\\n\")\n",
        "                f.write(f\"  L1 loss: {l1_loss}\\n\\n\")\n",
        "\n",
        "            print(f\"Output written to {output_file}\")"
      ]
    },
    {
      "cell_type": "code",
      "execution_count": null,
      "metadata": {
        "id": "cFiVF-HUtV-L",
        "outputId": "c31a720c-cc59-4fde-ded9-3964da037dd7"
      },
      "outputs": [
        {
          "name": "stderr",
          "output_type": "stream",
          "text": [
            "C:\\Users\\user\\AppData\\Roaming\\Python\\Python38\\site-packages\\rasterio\\__init__.py:331: NotGeoreferencedWarning: Dataset has no geotransform, gcps, or rpcs. The identity matrix will be returned.\n",
            "  dataset = DatasetReader(path, driver=driver, sharing=sharing, **kwargs)\n"
          ]
        },
        {
          "name": "stdout",
          "output_type": "stream",
          "text": [
            "Output written to output.txt\n"
          ]
        }
      ],
      "source": [
        "remove_bad_pixels('RBN_Forest_27.tif', 'output.txt')"
      ]
    },
    {
      "cell_type": "markdown",
      "metadata": {
        "id": "uUdTH1ENtV-L"
      },
      "source": [
        "## Atmospheric Errors\n",
        "\n",
        "Satellite imagery is often affected by atmospheric interactions, notably **scattering** and **absorption** by atmospheric particles. These phenomena can obscure image details and introduce absorption lines from gases like water vapor, impacting the accuracy of interpretations.\n",
        "\n",
        "To counteract these effects, techniques such as **Haze Removal by Dark Subtraction** (Dark Object Subtraction) are employed. These methods adjust imagery based on the specific atmospheric conditions affecting each image, ensuring more reliable data for analysis.\n"
      ]
    },
    {
      "cell_type": "markdown",
      "metadata": {
        "id": "LIVkteXMDpxO"
      },
      "source": [
        "## Q2- Implement Haze Removal by Dark Subtraction\n",
        "\n",
        "Haze Removal by Dark Subtraction is a process designed to correct for atmospheric effects that add a constant level of brightness across all pixels in each spectral band of an image. The steps for implementing this method are as follows:\n",
        "\n",
        "1. **Assumption**: The process begins with the assumption that in a haze-free image, some pixels in each band should have brightness values close to zero. However, haze adds a constant brightness to all pixels.\n",
        "\n",
        "2. **Histogram Analysis**: Histograms of the spectral bands are analyzed. Normally, the lowest significant brightness values should be near zero, but haze shifts these values away from the origin. This shift is more pronounced for shorter wavelengths.\n",
        "\n",
        "3. **Histogram Shift**: The histograms are adjusted by shifting them to the left, making the minimum significant brightness values approach zero. This adjustment reduces the impact of atmospheric scattering.\n",
        "\n",
        "4. **Subtractive Bias Calculation**: A subtractive bias is determined for each spectral band based on the minimum brightness value (BV) observed in the histograms. This bias represents the haze effect to be removed.\n",
        "\n",
        "5. **Bias Application**: $$BV_{i,j,k} = BV_{i,j,k} - BV_{bias}$$\n",
        "\n",
        "By applying these biases, the haze effect is minimized, resulting in clearer and more accurate images.\n",
        "\n",
        "### Requirements\n",
        "i. A figure that contains information for each band should display the following:\n",
        "  1. Histograms side by side before and after haze removal.\n",
        "  2. Images side by side (grayscale).\n",
        "  3. Threshold should be displayed in the image as a caption. see plt.figtext\n",
        "\n",
        "ii. A final figure that has the two images before and after haze removal side by side."
      ]
    },
    {
      "cell_type": "code",
      "execution_count": null,
      "metadata": {
        "id": "T0tLhSBjtV-M"
      },
      "outputs": [],
      "source": [
        "# use haze_img.png\n",
        "import matplotlib.pyplot as plt\n",
        "import numpy as np\n",
        "from osgeo import gdal\n",
        "\n",
        "# Read image\n",
        "img_ds = gdal.Open(\"haze_img.png\", gdal.GA_ReadOnly)\n",
        "num_bands = img_ds.RasterCount\n",
        "\n",
        "# Build an array that contains all the image bands after haze removal\n",
        "shifted_bands = []\n",
        "# Build an array that contains all the image bands before haze removal\n",
        "original_bands = []\n",
        "# loop on the image band by band\n",
        "for i in range(1, num_bands + 1):\n",
        "    band = img_ds.GetRasterBand(i)  # retrieves the raster band i\n",
        "    img = band.ReadAsArray()  # reads the raster data from the selected band and stores it as a NumPy array (img).\n",
        "\n",
        "    # Find minimum value in the band's image\n",
        "    min_value = np.min(img)\n",
        "\n",
        "    # Shift the image to the left so that it starts at 0\n",
        "    img_shifted = img - min_value\n",
        "\n",
        "    #Append all shifted bands in one list\n",
        "    shifted_bands.append(img_shifted)\n",
        "\n",
        "    #Append all original bands in one list\n",
        "    original_bands.append(img)\n",
        "\n",
        "    # Plot the original and shifted images along with their histograms using Matplotlib\n",
        "    fig, axes = plt.subplots(2, 2, figsize=(12, 10))\n",
        "\n",
        "    # Display original grayscale image and its histogram\n",
        "    axes[0, 0].imshow(img, cmap='gray')\n",
        "    axes[0, 0].set_title(\"band \" + str(i) + \" before haze removal.\")\n",
        "    axes[1, 0].hist(img.flatten(), bins=50, color='c')\n",
        "    axes[1, 0].set_title(\"Histogram of Band \" + str(i) + \" before haze removal.\")\n",
        "\n",
        "    # Display shifted grayscale image and its histogram\n",
        "    axes[0, 1].imshow(img_shifted, cmap='gray')\n",
        "    axes[0, 1].set_title(\"band \" + str(i) + \" after haze removal. bias = \"+ str(min_value))\n",
        "    axes[1, 1].hist(img_shifted.flatten(), bins=50, color='m')\n",
        "    axes[1, 1].set_title(\"Histogram of Band \" + str(i) + \" after haze removal.\")\n",
        "\n",
        "    plt.tight_layout()\n",
        "    plt.show()\n",
        "\n",
        "# Stack the bands of shifted image and original image\n",
        "shifted_img = np.stack(shifted_bands, axis=-1)\n",
        "original_img = np.stack(original_bands, axis=-1)\n",
        "\n",
        "# Create a figure and two subplots side by side\n",
        "fig, (ax1, ax2) = plt.subplots(1, 2, figsize=(16, 6))\n",
        "\n",
        "# Display original grayscale image on the left subplot\n",
        "ax1.imshow(original_img, cmap='gray')\n",
        "ax1.set_title(\"Image before haze removal.\")\n",
        "\n",
        "# Display shifted image on the right subplot\n",
        "ax2.imshow(shifted_img, cmap='gray')\n",
        "ax2.set_title(\"Image after haze removal.\")\n",
        "\n",
        "plt.show()"
      ]
    },
    {
      "cell_type": "markdown",
      "metadata": {
        "id": "Rn8xZ6oHtV-M"
      },
      "source": [
        "## Submission Instructions\n",
        "\n",
        "To ensure a smooth evaluation process, please follow these steps for submitting your work:\n",
        "\n",
        "1. **Prepare Your Submission:** Alongside your main notebook, include any additional files that are necessary for running the notebook successfully. This might include data files, images, or supplementary scripts.\n",
        "\n",
        "2. **Rename Your Files:** Before submission, please rename your notebook to reflect the IDs of the two students working on this project. The format should be `ID1_ID2`, where `ID1` and `ID2` are the student IDs. For example, if the student IDs are `9123456` and `9876543`, then your notebook should be named `9123456_9876543.ipynb`.\n",
        "\n",
        "3. **Check for Completeness:** Ensure that all required tasks are completed and that the notebook runs from start to finish without errors. This step is crucial for a smooth evaluation.\n",
        "\n",
        "4. **Submit Your Work:** Once everything is in order, submit your notebook and any additional files via the designated submission link on Google Classroom **(code: 2yj6e24)**. Make sure you meet the submission deadline to avoid any late penalties.\n",
        "5. Please, note that the same student should submit the assignments for the pair throughout the semester.\n",
        "\n",
        "By following these instructions carefully, you help us in evaluating your work efficiently and fairly **and any failure to adhere to these guidelines can affect your grades**. If you encounter any difficulties or have questions about the submission process, please reach out as soon as possible.\n",
        "\n",
        "We look forward to seeing your completed projects and wish you the best of luck!\n"
      ]
    }
  ],
  "metadata": {
    "colab": {
      "provenance": []
    },
    "kernelspec": {
      "display_name": "Python 3 (ipykernel)",
      "language": "python",
      "name": "python3"
    },
    "language_info": {
      "codemirror_mode": {
        "name": "ipython",
        "version": 3
      },
      "file_extension": ".py",
      "mimetype": "text/x-python",
      "name": "python",
      "nbconvert_exporter": "python",
      "pygments_lexer": "ipython3",
      "version": "3.8.18"
    }
  },
  "nbformat": 4,
  "nbformat_minor": 0
}